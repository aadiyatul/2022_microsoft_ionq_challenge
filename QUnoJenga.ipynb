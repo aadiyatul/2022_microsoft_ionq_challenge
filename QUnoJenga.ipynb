{
  "nbformat": 4,
  "nbformat_minor": 0,
  "metadata": {
    "colab": {
      "name": "\"Quantum-Jenga-Uno.ipynb\" 1",
      "provenance": [],
      "collapsed_sections": []
    },
    "kernelspec": {
      "name": "python3",
      "display_name": "Python 3"
    },
    "language_info": {
      "name": "python"
    }
  },
  "cells": [
    {
      "cell_type": "markdown",
      "source": [
        "##Quantum Jenga - Uno"
      ],
      "metadata": {
        "id": "Yx4-QtQge2qR"
      }
    },
    {
      "cell_type": "markdown",
      "source": [
        "We were arguing for a lot, so we decided to implement both games (: "
      ],
      "metadata": {
        "id": "YfCJCwEre7MR"
      }
    },
    {
      "cell_type": "markdown",
      "source": [
        "##Auth to Azure"
      ],
      "metadata": {
        "id": "EPFwRgNQfQdA"
      }
    },
    {
      "cell_type": "code",
      "source": [
        "!pip install azure-quantum --quiet\n",
        "!pip install azure-quantum[qiskit] --quiet"
      ],
      "metadata": {
        "id": "XAJ8Y5XdcgTW"
      },
      "execution_count": null,
      "outputs": []
    },
    {
      "cell_type": "code",
      "source": [
        "from azure.quantum.qiskit import AzureQuantumProvider\n",
        "provider = AzureQuantumProvider (\n",
        "    resource_id = \"/subscriptions/b1d7f7f8-743f-458e-b3a0-3e09734d716d/resourceGroups/aq-hackathons/providers/Microsoft.Quantum/Workspaces/aq-hackathon-01\",\n",
        "    location = \"eastus\"\n",
        ")"
      ],
      "metadata": {
        "id": "_YWwtWDic-sh"
      },
      "execution_count": 2,
      "outputs": []
    },
    {
      "cell_type": "code",
      "source": [
        "provider.backends()"
      ],
      "metadata": {
        "id": "dWfCzA_Mc5lK",
        "colab": {
          "base_uri": "https://localhost:8080/"
        },
        "outputId": "afbd308a-89d0-4e0a-ab21-651da101c298"
      },
      "execution_count": 3,
      "outputs": [
        {
          "output_type": "stream",
          "name": "stdout",
          "text": [
            "To sign in, use a web browser to open the page https://microsoft.com/devicelogin and enter the code ALPK6GKZ4 to authenticate.\n"
          ]
        },
        {
          "output_type": "execute_result",
          "data": {
            "text/plain": [
              "[<IonQQPUBackend('ionq.qpu')>, <IonQSimulatorBackend('ionq.simulator')>]"
            ]
          },
          "metadata": {},
          "execution_count": 3
        }
      ]
    },
    {
      "cell_type": "markdown",
      "source": [
        "##Imports"
      ],
      "metadata": {
        "id": "NtAvB2YxfYdn"
      }
    },
    {
      "cell_type": "code",
      "source": [
        "!pip install pylatexenc --quiet\n",
        "!pip install qiskit --quiet"
      ],
      "metadata": {
        "id": "h5YbJauLR0If",
        "colab": {
          "base_uri": "https://localhost:8080/"
        },
        "outputId": "f53589da-7bb5-4b0b-9694-18abf9eecd8d"
      },
      "execution_count": 4,
      "outputs": [
        {
          "output_type": "stream",
          "name": "stdout",
          "text": [
            "\u001b[?25l\r\u001b[K     |██                              | 10 kB 24.5 MB/s eta 0:00:01\r\u001b[K     |████                            | 20 kB 13.2 MB/s eta 0:00:01\r\u001b[K     |██████                          | 30 kB 9.9 MB/s eta 0:00:01\r\u001b[K     |████████                        | 40 kB 8.9 MB/s eta 0:00:01\r\u001b[K     |██████████                      | 51 kB 5.6 MB/s eta 0:00:01\r\u001b[K     |████████████                    | 61 kB 5.6 MB/s eta 0:00:01\r\u001b[K     |██████████████                  | 71 kB 5.5 MB/s eta 0:00:01\r\u001b[K     |████████████████▏               | 81 kB 6.1 MB/s eta 0:00:01\r\u001b[K     |██████████████████▏             | 92 kB 4.9 MB/s eta 0:00:01\r\u001b[K     |████████████████████▏           | 102 kB 5.3 MB/s eta 0:00:01\r\u001b[K     |██████████████████████▏         | 112 kB 5.3 MB/s eta 0:00:01\r\u001b[K     |████████████████████████▏       | 122 kB 5.3 MB/s eta 0:00:01\r\u001b[K     |██████████████████████████▏     | 133 kB 5.3 MB/s eta 0:00:01\r\u001b[K     |████████████████████████████▏   | 143 kB 5.3 MB/s eta 0:00:01\r\u001b[K     |██████████████████████████████▎ | 153 kB 5.3 MB/s eta 0:00:01\r\u001b[K     |████████████████████████████████| 162 kB 5.3 MB/s \n",
            "\u001b[?25h  Building wheel for pylatexenc (setup.py) ... \u001b[?25l\u001b[?25hdone\n",
            "\u001b[K     |████████████████████████████████| 18.0 MB 552 kB/s \n",
            "\u001b[K     |████████████████████████████████| 238 kB 50.9 MB/s \n",
            "\u001b[K     |████████████████████████████████| 200 kB 48.4 MB/s \n",
            "\u001b[K     |████████████████████████████████| 53 kB 1.6 MB/s \n",
            "\u001b[?25h  Building wheel for qiskit (setup.py) ... \u001b[?25l\u001b[?25hdone\n"
          ]
        }
      ]
    },
    {
      "cell_type": "code",
      "source": [
        "from qiskit import IBMQ, QuantumCircuit, ClassicalRegister, Aer, transpile\n",
        "from qiskit.circuit.library import QFT\n",
        "from qiskit.visualization import plot_histogram\n",
        "from qiskit.circuit.random import random_circuit\n",
        "from qiskit.tools.monitor import job_monitor\n",
        "import random"
      ],
      "metadata": {
        "id": "Ty67oC3URx5g"
      },
      "execution_count": 5,
      "outputs": []
    },
    {
      "cell_type": "code",
      "source": [
        "from google.colab import drive\n",
        "drive.mount('/content/gdrive/')"
      ],
      "metadata": {
        "colab": {
          "base_uri": "https://localhost:8080/"
        },
        "id": "uJfuDYQC2wOk",
        "outputId": "7a4823e1-1e6d-408c-a2b7-c489006b2429"
      },
      "execution_count": 6,
      "outputs": [
        {
          "output_type": "stream",
          "name": "stdout",
          "text": [
            "Mounted at /content/gdrive/\n"
          ]
        }
      ]
    },
    {
      "cell_type": "code",
      "source": [
        "import sys\n",
        "import os\n",
        "\n",
        "py_file_location = \"/content/gdrive/MyDrive/Colab Notebooks/quantum111\"\n",
        "sys.path.append(os.path.abspath(py_file_location))\n",
        "\n",
        "import overlap"
      ],
      "metadata": {
        "id": "tFUCbsB03HJO"
      },
      "execution_count": 7,
      "outputs": []
    },
    {
      "cell_type": "markdown",
      "source": [
        "#Game classes definitions"
      ],
      "metadata": {
        "id": "C3dWeSWBfezN"
      }
    },
    {
      "cell_type": "markdown",
      "source": [
        "Card parameters\n"
      ],
      "metadata": {
        "id": "B7BdOQOaj3-U"
      }
    },
    {
      "cell_type": "code",
      "source": [
        "n = 5"
      ],
      "metadata": {
        "id": "MFl6Nzjhj3EY"
      },
      "execution_count": 41,
      "outputs": []
    },
    {
      "cell_type": "code",
      "source": [
        "class Card:\n",
        "    def __init__(self, number, color, quantum_circuit):\n",
        "        self.number = number\n",
        "        self.color = color\n",
        "        self.qc = quantum_circuit\n",
        "    def draw(self):\n",
        "        print('////////////////////////')\n",
        "        print(f'COLOR: {self.color}')\n",
        "        print(f'NUMBER: {self.number}')\n",
        "        print(self.qc.draw())\n",
        "        print('////////////////////////')\n",
        "        "
      ],
      "metadata": {
        "id": "4ehCXnCZRlQe"
      },
      "execution_count": 46,
      "outputs": []
    },
    {
      "cell_type": "code",
      "source": [
        "class CollectionOfCards:\n",
        "    def __init__(self):\n",
        "        self.collection = []\n",
        "\n",
        "    def add_card(self, card):\n",
        "        self.collection.append(card)\n",
        "\n",
        "    def shuffle(self):\n",
        "        self.collection = random.shuffle(self.collection)\n",
        "\n",
        "    def make_deck(self):\n",
        "        for num in range(1, 10):\n",
        "            for color in [\"Yellow\", \"Red\", \"Blue\", \"Green\"]:\n",
        "                random_qc = random_circuit(n, depth=num, max_operands=2, seed=42)\n",
        "                newcard = Card(color, num, random_qc)\n",
        "                self.add_card(newcard)\n",
        "\n",
        "    def get_number_of_cards(self):\n",
        "        return len(self.collection)\n",
        "\n",
        "    def get_top_card(self):\n",
        "        return self.collection[-1]\n",
        "\n",
        "    def can_play(self, new_card):\n",
        "        top_card = self.get_top_card()\n",
        "        if (top_card.num == new_card.num) or (top_card.color == new_card.color):\n",
        "            return True\n",
        "        return True #False      "
      ],
      "metadata": {
        "id": "7xDpuIyuiU1S"
      },
      "execution_count": 53,
      "outputs": []
    },
    {
      "cell_type": "code",
      "source": [
        "class Player:\n",
        "    def __init__(self, name):\n",
        "        self.name = name\n",
        "        self.hand = CollectionOfCards()\n",
        "    "
      ],
      "metadata": {
        "id": "TD1pRkLoiFOC"
      },
      "execution_count": 48,
      "outputs": []
    },
    {
      "cell_type": "code",
      "source": [
        "class QUnoJenga:\n",
        "    def __init__(self, n_of_players=2):\n",
        "        self.deck = CollectionOfCards()\n",
        "        self.deck = self.deck.make_deck()\n",
        "        self.deck.shuffle()\n",
        "        \n",
        "        self.players = [Player('Artem'), Player('Leyla')]\n",
        "        self.current_player_number = 0\n",
        "        \n",
        "        for i in range(7):\n",
        "            for player in self.players:\n",
        "                self.player.hand.append(self.deck.collection.pop())\n",
        "\n",
        "        self.center = self.deck.collection.pop()\n",
        "\n",
        "\n",
        "    def play_turn(self, player):\n",
        "        \n",
        "        for card in player.hand:\n",
        "            if self.deck.can_play(card):\n",
        "                player.hand.pop(card)\n",
        "                self.deck.add_card(card)\n",
        "        #skip if no cards available TODO\n",
        "\n",
        "    def evaluate(self):\n",
        "\n",
        "        simulator_backend = provider.get_backend(\"ionq.simulator\")\n",
        "        real_backend = provider.get_backend(\"ionq.qpu\")\n",
        "\n",
        "        #circuit = Quan\n",
        "\n",
        "\n",
        "        #job1 = real_backend.run(circuit, shots=100)\n",
        "        #job2 = simulator_backend.run(circuit, shots=100)  \n",
        "\n",
        "        #result_q = job1.result()\n",
        "        #result_s = job2.result()\n",
        "        return random.randint(0, len(self.players) - 1)\n",
        "\n",
        "    def play_game(self):\n",
        "\n",
        "        while(True):\n",
        "            current_player = self.players[self.current_player_number]\n",
        "\n",
        "            self.play_turn(current_player)\n",
        "            \n",
        "            if current_player.get_number_of_cards(current_player.hand) == 0:\n",
        "                    winner = self.evaluate()\n",
        "                    print(f\"Player {winner} is winner\")\n",
        "                    break\n",
        "\n",
        "            self.current_player_number += 1\n",
        "            \n",
        "\n",
        "\n",
        "\n"
      ],
      "metadata": {
        "id": "lbnHP0xbl7mc"
      },
      "execution_count": 56,
      "outputs": []
    },
    {
      "cell_type": "code",
      "source": [
        "my_game = QUnoJenga()\n",
        "my_game.playGame()"
      ],
      "metadata": {
        "id": "KMV5hxCspo8d",
        "colab": {
          "base_uri": "https://localhost:8080/",
          "height": 305
        },
        "outputId": "8b596e9c-dc56-4b2f-f06c-4ec99214cde0"
      },
      "execution_count": 57,
      "outputs": [
        {
          "output_type": "error",
          "ename": "AttributeError",
          "evalue": "ignored",
          "traceback": [
            "\u001b[0;31m---------------------------------------------------------------------------\u001b[0m",
            "\u001b[0;31mAttributeError\u001b[0m                            Traceback (most recent call last)",
            "\u001b[0;32m<ipython-input-57-11b0ce96a449>\u001b[0m in \u001b[0;36m<module>\u001b[0;34m()\u001b[0m\n\u001b[0;32m----> 1\u001b[0;31m \u001b[0mmy_game\u001b[0m \u001b[0;34m=\u001b[0m \u001b[0mQUnoJenga\u001b[0m\u001b[0;34m(\u001b[0m\u001b[0;34m)\u001b[0m\u001b[0;34m\u001b[0m\u001b[0;34m\u001b[0m\u001b[0m\n\u001b[0m\u001b[1;32m      2\u001b[0m \u001b[0mmy_game\u001b[0m\u001b[0;34m.\u001b[0m\u001b[0mplayGame\u001b[0m\u001b[0;34m(\u001b[0m\u001b[0;34m)\u001b[0m\u001b[0;34m\u001b[0m\u001b[0;34m\u001b[0m\u001b[0m\n",
            "\u001b[0;32m<ipython-input-56-ea9e6b087e5e>\u001b[0m in \u001b[0;36m__init__\u001b[0;34m(self, n_of_players)\u001b[0m\n\u001b[1;32m      3\u001b[0m         \u001b[0mself\u001b[0m\u001b[0;34m.\u001b[0m\u001b[0mdeck\u001b[0m \u001b[0;34m=\u001b[0m \u001b[0mCollectionOfCards\u001b[0m\u001b[0;34m(\u001b[0m\u001b[0;34m)\u001b[0m\u001b[0;34m\u001b[0m\u001b[0;34m\u001b[0m\u001b[0m\n\u001b[1;32m      4\u001b[0m         \u001b[0mself\u001b[0m\u001b[0;34m.\u001b[0m\u001b[0mdeck\u001b[0m \u001b[0;34m=\u001b[0m \u001b[0mself\u001b[0m\u001b[0;34m.\u001b[0m\u001b[0mdeck\u001b[0m\u001b[0;34m.\u001b[0m\u001b[0mmake_deck\u001b[0m\u001b[0;34m(\u001b[0m\u001b[0;34m)\u001b[0m\u001b[0;34m\u001b[0m\u001b[0;34m\u001b[0m\u001b[0m\n\u001b[0;32m----> 5\u001b[0;31m         \u001b[0mself\u001b[0m\u001b[0;34m.\u001b[0m\u001b[0mdeck\u001b[0m\u001b[0;34m.\u001b[0m\u001b[0mshuffle\u001b[0m\u001b[0;34m(\u001b[0m\u001b[0;34m)\u001b[0m\u001b[0;34m\u001b[0m\u001b[0;34m\u001b[0m\u001b[0m\n\u001b[0m\u001b[1;32m      6\u001b[0m \u001b[0;34m\u001b[0m\u001b[0m\n\u001b[1;32m      7\u001b[0m         \u001b[0mself\u001b[0m\u001b[0;34m.\u001b[0m\u001b[0mplayers\u001b[0m \u001b[0;34m=\u001b[0m \u001b[0;34m[\u001b[0m\u001b[0mPlayer\u001b[0m\u001b[0;34m(\u001b[0m\u001b[0;34m'Artem'\u001b[0m\u001b[0;34m)\u001b[0m\u001b[0;34m,\u001b[0m \u001b[0mPlayer\u001b[0m\u001b[0;34m(\u001b[0m\u001b[0;34m'Leyla'\u001b[0m\u001b[0;34m)\u001b[0m\u001b[0;34m]\u001b[0m\u001b[0;34m\u001b[0m\u001b[0;34m\u001b[0m\u001b[0m\n",
            "\u001b[0;31mAttributeError\u001b[0m: 'NoneType' object has no attribute 'shuffle'"
          ]
        }
      ]
    },
    {
      "cell_type": "markdown",
      "source": [
        "Example"
      ],
      "metadata": {
        "id": "UP5dY2JTfoWk"
      }
    },
    {
      "cell_type": "code",
      "source": [
        "# quantum circuit to make a Bell state \n",
        "bell = QuantumCircuit(2)\n",
        "bell.h(0)\n",
        "bell.cx(0, 1)\n",
        "\n",
        "sample_card = Card(7, 'Yellow', bell)\n",
        "\n",
        "sample_card.draw()"
      ],
      "metadata": {
        "id": "6S4pfum7SkcH"
      },
      "execution_count": null,
      "outputs": []
    },
    {
      "cell_type": "code",
      "source": [
        "simulator_backend = provider.get_backend(\"ionq.simulator\")\n",
        "real_backend = provider.get_backend(\"ionq.qpu\")\n",
        "\n",
        "\n",
        "job1 = real_backend.run(circuit, shots=100)\n",
        "job2 = simulator_backend.run(circuit, shots=100)\n",
        "job1_id = job1.id()\n",
        "job2_id = job2.id()\n",
        "print(\"Q Job id\", job1_id)\n",
        "print(\"S Job id\", job2_id)"
      ],
      "metadata": {
        "id": "1-EVezAPcs6b"
      },
      "execution_count": null,
      "outputs": []
    },
    {
      "cell_type": "code",
      "source": [
        "result_q = job1.result()\n",
        "result_s = job2.result()\n",
        "print(result)"
      ],
      "metadata": {
        "id": "JAQQtj7odevJ"
      },
      "execution_count": null,
      "outputs": []
    },
    {
      "cell_type": "code",
      "source": [
        "random_qc1 = random_circuit(n, depth=3, max_operands = 2, seed=42)"
      ],
      "metadata": {
        "id": "oeng3v7O859J"
      },
      "execution_count": 39,
      "outputs": []
    },
    {
      "cell_type": "code",
      "source": [
        "random_qc1.draw()"
      ],
      "metadata": {
        "colab": {
          "base_uri": "https://localhost:8080/",
          "height": 187
        },
        "id": "Z9xBP7Rj892m",
        "outputId": "7e6a4d74-538a-422b-9cca-342d56502c0e"
      },
      "execution_count": 40,
      "outputs": [
        {
          "output_type": "execute_result",
          "data": {
            "text/html": [
              "<pre style=\"word-wrap: normal;white-space: pre;background: #fff0;line-height: 1.1;font-family: &quot;Courier New&quot;,Courier,monospace\">            ┌────────────┐       ┌────────────┐       ┌───┐              \n",
              "q_0: ───────┤ Rx(4.3817) ├───────┤ Rz(1.4278) ├───────┤ H ├──────────────\n",
              "            └┬──────────┬┘       └─────┬──────┘ ┌───┐ └─┬─┘┌────────────┐\n",
              "q_1: ────────┤ U1(6.13) ├──────────────┼────────┤ Z ├───┼──┤ U1(5.6116) ├\n",
              "     ┌───────┴──────────┴───────┐      │       ┌┴───┴┐  │  └────────────┘\n",
              "q_2: ┤ U3(4.939,0.80496,2.8299) ├──────■───────┤ Sdg ├──┼────────────────\n",
              "     └────────────┬─────────────┘              ├─────┤  │                \n",
              "q_3: ─────────────■────────────────────■───────┤ Tdg ├──┼────────────────\n",
              "                ┌───┐                ┌─┴─┐     └─────┘  │                \n",
              "q_4: ───────────┤ H ├────────────────┤ H ├──────────────■────────────────\n",
              "                └───┘                └───┘                               </pre>"
            ],
            "text/plain": [
              "            ┌────────────┐       ┌────────────┐       ┌───┐              \n",
              "q_0: ───────┤ Rx(4.3817) ├───────┤ Rz(1.4278) ├───────┤ H ├──────────────\n",
              "            └┬──────────┬┘       └─────┬──────┘ ┌───┐ └─┬─┘┌────────────┐\n",
              "q_1: ────────┤ U1(6.13) ├──────────────┼────────┤ Z ├───┼──┤ U1(5.6116) ├\n",
              "     ┌───────┴──────────┴───────┐      │       ┌┴───┴┐  │  └────────────┘\n",
              "q_2: ┤ U3(4.939,0.80496,2.8299) ├──────■───────┤ Sdg ├──┼────────────────\n",
              "     └────────────┬─────────────┘              ├─────┤  │                \n",
              "q_3: ─────────────■────────────────────■───────┤ Tdg ├──┼────────────────\n",
              "                ┌───┐                ┌─┴─┐     └─────┘  │                \n",
              "q_4: ───────────┤ H ├────────────────┤ H ├──────────────■────────────────\n",
              "                └───┘                └───┘                               "
            ]
          },
          "metadata": {},
          "execution_count": 40
        }
      ]
    },
    {
      "cell_type": "code",
      "source": [
        ""
      ],
      "metadata": {
        "id": "7dmIeW-69A6t"
      },
      "execution_count": null,
      "outputs": []
    }
  ]
}