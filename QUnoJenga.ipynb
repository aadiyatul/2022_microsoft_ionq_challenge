{
  "nbformat": 4,
  "nbformat_minor": 0,
  "metadata": {
    "colab": {
      "name": "QUnoJenga.ipynb",
      "provenance": [],
      "collapsed_sections": []
    },
    "kernelspec": {
      "name": "python3",
      "display_name": "Python 3"
    },
    "language_info": {
      "name": "python"
    }
  },
  "cells": [
    {
      "cell_type": "markdown",
      "source": [
        "##QUnoJenga"
      ],
      "metadata": {
        "id": "Yx4-QtQge2qR"
      }
    },
    {
      "cell_type": "markdown",
      "source": [
        "We were arguing for a lot, so we decided to implement both games (: "
      ],
      "metadata": {
        "id": "YfCJCwEre7MR"
      }
    },
    {
      "cell_type": "markdown",
      "source": [
        "##Auth to Azure and imports"
      ],
      "metadata": {
        "id": "EPFwRgNQfQdA"
      }
    },
    {
      "cell_type": "code",
      "source": [
        "!pip install azure-quantum --quiet --no-warn-conflicts\n",
        "!pip install azure-quantum[qiskit] --quiet"
      ],
      "metadata": {
        "id": "XAJ8Y5XdcgTW"
      },
      "execution_count": 1,
      "outputs": []
    },
    {
      "cell_type": "code",
      "source": [
        "from qiskit import QuantumCircuit, ClassicalRegister, Aer, transpile\n",
        "from qiskit.circuit.library import QFT\n",
        "from qiskit.visualization import plot_histogram\n",
        "from qiskit.circuit.random import random_circuit\n",
        "from qiskit.tools.monitor import job_monitor\n",
        "import random\n",
        "import numpy as np"
      ],
      "metadata": {
        "id": "Ty67oC3URx5g"
      },
      "execution_count": 2,
      "outputs": []
    },
    {
      "cell_type": "code",
      "source": [
        "from google.colab import drive\n",
        "drive.mount('/content/drive')"
      ],
      "metadata": {
        "colab": {
          "base_uri": "https://localhost:8080/"
        },
        "id": "_3lLdepqnVFQ",
        "outputId": "4aa59688-f628-4b01-f0c8-fa92507714fb"
      },
      "execution_count": 3,
      "outputs": [
        {
          "output_type": "stream",
          "name": "stdout",
          "text": [
            "Drive already mounted at /content/drive; to attempt to forcibly remount, call drive.mount(\"/content/drive\", force_remount=True).\n"
          ]
        }
      ]
    },
    {
      "cell_type": "code",
      "source": [
        "import os\n",
        "from azure.quantum.qiskit import AzureQuantumProvider\n",
        "\n",
        "key_path = \"/content/drive/MyDrive/Colab Notebooks/quantum111/key.txt\"\n",
        "if os.path.isfile(key_path):\n",
        "    with open(key_path, 'r') as file:\n",
        "        key = file.read().replace('\\n', '')\n",
        "else:\n",
        "    key = input(\"Enter your Azure Resource ID\").lower()\n",
        "\n",
        "provider = AzureQuantumProvider(\n",
        "    resource_id = key\n",
        "    location = \"eastus\"\n",
        ")"
      ],
      "metadata": {
        "id": "WMBPtHi1mPxS"
      },
      "execution_count": 4,
      "outputs": []
    },
    {
      "cell_type": "code",
      "source": [
        "provider.backends()"
      ],
      "metadata": {
        "id": "dWfCzA_Mc5lK",
        "colab": {
          "base_uri": "https://localhost:8080/"
        },
        "outputId": "7335c9b0-6a43-465f-e5f6-c6562d2355ab"
      },
      "execution_count": 5,
      "outputs": [
        {
          "output_type": "stream",
          "name": "stdout",
          "text": [
            "To sign in, use a web browser to open the page https://microsoft.com/devicelogin and enter the code RY737JT8F to authenticate.\n"
          ]
        },
        {
          "output_type": "execute_result",
          "data": {
            "text/plain": [
              "[<IonQQPUBackend('ionq.qpu')>, <IonQSimulatorBackend('ionq.simulator')>]"
            ]
          },
          "metadata": {},
          "execution_count": 5
        }
      ]
    },
    {
      "cell_type": "markdown",
      "source": [
        "##Imports"
      ],
      "metadata": {
        "id": "NtAvB2YxfYdn"
      }
    },
    {
      "cell_type": "markdown",
      "source": [
        "#Game classes definitions"
      ],
      "metadata": {
        "id": "C3dWeSWBfezN"
      }
    },
    {
      "cell_type": "markdown",
      "source": [
        "Qubits number\n"
      ],
      "metadata": {
        "id": "B7BdOQOaj3-U"
      }
    },
    {
      "cell_type": "code",
      "source": [
        "n = 5"
      ],
      "metadata": {
        "id": "MFl6Nzjhj3EY"
      },
      "execution_count": 6,
      "outputs": []
    },
    {
      "cell_type": "code",
      "source": [
        "class Card:\n",
        "    def __init__(self, number, color, quantum_circuit):\n",
        "        self.number = number\n",
        "        self.color = color\n",
        "        self.qc = quantum_circuit\n",
        "    def draw(self, draw_qc=False):\n",
        "        print('////////////////////////')\n",
        "        print(f'COLOR: {self.color}')\n",
        "        print(f'NUMBER: {self.number}')\n",
        "        if draw_qc:\n",
        "            print(self.qc.draw())\n",
        "        print('////////////////////////')\n",
        "        "
      ],
      "metadata": {
        "id": "4ehCXnCZRlQe"
      },
      "execution_count": 7,
      "outputs": []
    },
    {
      "cell_type": "code",
      "source": [
        "class CollectionOfCards:\n",
        "    def __init__(self):\n",
        "        self.collection = []\n",
        "\n",
        "    def add_card(self, card):\n",
        "        self.collection.append(card)\n",
        "      \n",
        "    def take_card(self):\n",
        "        \n",
        "        #new deck if there are no cards left\n",
        "        if self.get_number_of_cards() == 0:\n",
        "            self.make_deck()\n",
        "\n",
        "        #take the last card\n",
        "        card = self.collection[-1]\n",
        "        self.collection.remove(card)\n",
        "        return card\n",
        "\n",
        "    def make_deck(self):\n",
        "        for num in range(1, 10):\n",
        "            for color in [\"Yellow\", \"Red\", \"Blue\", \"Green\"]:\n",
        "                random_qc = random_circuit(n, depth=num, max_operands=2, seed=42)   #make random  \n",
        "                newcard = Card(num, color, random_qc)\n",
        "                self.add_card(newcard)\n",
        "\n",
        "    def get_number_of_cards(self):\n",
        "        return len(self.collection)\n",
        "\n",
        "    def get_top_card(self):\n",
        "        return self.collection[-1]\n",
        "\n",
        "    def can_play(self, new_card):\n",
        "        top_card = self.get_top_card()\n",
        "        if (top_card.number == new_card.number) or (top_card.color == new_card.color):\n",
        "            return True\n",
        "        return True#False"
      ],
      "metadata": {
        "id": "7xDpuIyuiU1S"
      },
      "execution_count": 8,
      "outputs": []
    },
    {
      "cell_type": "code",
      "source": [
        "class Player:\n",
        "    def __init__(self, name):\n",
        "        self.name = name\n",
        "        self.hand = CollectionOfCards()\n",
        "\n",
        "    def get_number_of_cards(self):\n",
        "        return self.hand.get_number_of_cards()\n",
        "\n",
        "    def look_card(self, i):\n",
        "        if i not in list(range(len(self.hand.collection))):\n",
        "            print('Wrong card number')\n",
        "        else:\n",
        "            card = self.hand.collection[i]\n",
        "            card.draw()\n",
        "    \n",
        "    def look_all_cards(self):\n",
        "        for i in range(len(self.hand.collection)):\n",
        "            print()\n",
        "            print(f'CARD {i}')\n",
        "            self.look_card(i)\n",
        "            print()"
      ],
      "metadata": {
        "id": "TD1pRkLoiFOC"
      },
      "execution_count": 9,
      "outputs": []
    },
    {
      "cell_type": "markdown",
      "source": [
        "#QUnoJenga description"
      ],
      "metadata": {
        "id": "hU2_BzLTc6bS"
      }
    },
    {
      "cell_type": "code",
      "source": [
        "class QUnoJenga:\n",
        "    def __init__(self, n_of_players=2):\n",
        "        self.deck = CollectionOfCards()\n",
        "        self.deck.make_deck()\n",
        "        random.shuffle(self.deck.collection)\n",
        "        \n",
        "        self.players = [Player('Artem'), Player('Leyla')]\n",
        "        self.current_player_number = 0\n",
        "        self.winner_number = -1\n",
        "        \n",
        "        for i in range(3):\n",
        "            for player in self.players:\n",
        "                player.hand.add_card(self.deck.take_card())\n",
        "\n",
        "\n",
        "        self.center = CollectionOfCards()\n",
        "        self.center.add_card(self.deck.take_card())\n",
        "\n",
        "\n",
        "    def play_turn(self, player):\n",
        "\n",
        "        turn_done = False\n",
        "        while(turn_done == False):\n",
        "            #Info for user\n",
        "            print()\n",
        "            print(f'{player.name}, your turn!')\n",
        "            print(f'You have {player.hand.get_number_of_cards()} cards')\n",
        "            print(f'The center card is {self.center.get_top_card().number}, {self.center.get_top_card().color}. ')\n",
        "            print(f'Select your option')\n",
        "\n",
        "            options_list = ['look card', 'look all cards', 'play card', 'skip', 'REAL HARDWARE']\n",
        "            options_dictionary = {i: options_list[i] for i in range(len(options_list))}\n",
        "\n",
        "            for key,value in options_dictionary.items():\n",
        "                print(key, '--', value)\n",
        "\n",
        "            #Select option and do corresponding action\n",
        "            selected_option_number = int(input())\n",
        "\n",
        "            if options_dictionary[selected_option_number] == 'look card':\n",
        "                card_number = int(input(f'{player.name}, enter the number of card to look'))\n",
        "                player.look_card(card_number)\n",
        "\n",
        "            if options_dictionary[selected_option_number] == 'look all cards':\n",
        "                player.look_all_cards()\n",
        "\n",
        "            if options_dictionary[selected_option_number] == 'play card':\n",
        "                card_number = int(input(f'{player.name}, enter the number of card to play'))\n",
        "\n",
        "                if card_number not in list(range(len(player.hand.collection))):\n",
        "                    print('Wrong card number')\n",
        "                else:\n",
        "                    card = player.hand.collection[card_number]\n",
        "                    card.draw()\n",
        "                    if self.center.can_play(card):\n",
        "                        player.hand.collection.remove(card)\n",
        "                        self.center.add_card(card)\n",
        "                        turn_done = True\n",
        "                    else:\n",
        "                        print('You cannot play this card. Check the color and the number of the center card')\n",
        "            \n",
        "            if options_dictionary[selected_option_number] == 'skip':\n",
        "                turn_done = True\n",
        "            if options_dictionary[selected_option_number] == 'REAL HARDWARE':\n",
        "                print('Comparing classical and quantum hardware')\n",
        "                turn_done = True\n",
        "                self.winner_number = self.evaluate()\n",
        "\n",
        "        print('Turn done')\n",
        "        print()\n",
        "\n",
        "    def play_game(self):\n",
        "\n",
        "        while(True):\n",
        "            \n",
        "            current_player = self.players[self.current_player_number]\n",
        "\n",
        "            self.play_turn(current_player)\n",
        "            \n",
        "            if self.winner_number != -1:\n",
        "                  winner = self.players[self.winner_number]\n",
        "                  print(f\"{winner.name} is winner\")\n",
        "                  break\n",
        "\n",
        "            self.current_player_number = (self.current_player_number + 1 ) % len(self.players)\n",
        "    \n",
        "        \n",
        "    def evaluate(self):\n",
        "\n",
        "        simulator_backend = provider.get_backend(\"ionq.simulator\")\n",
        "        real_backend = provider.get_backend(\"ionq.qpu\")\n",
        "\n",
        "        circuit = QuantumCircuit(n, n)\n",
        "        return random.randint(0, len(self.players) - 1)"
      ],
      "metadata": {
        "id": "lbnHP0xbl7mc"
      },
      "execution_count": 16,
      "outputs": []
    },
    {
      "cell_type": "markdown",
      "source": [
        "#Evaluate on quantum and classical hardware"
      ],
      "metadata": {
        "id": "uUz6r7J8kQvP"
      }
    },
    {
      "cell_type": "code",
      "source": [
        "def generate_noise_qc(qubits=5):\n",
        "    \"\"\"\n",
        "    Generates a circuit that can be used to simulate noise. \n",
        "    Intended to be used between the cards when playing without the real machine.\n",
        "    No measurement at the end.\n",
        "    \"\"\"\n",
        "    ph_noise = 0.1\n",
        "    noise_qc = QuantumCircuit(qubits, qubits)\n",
        "  \n",
        "    for q in range(qubits):\n",
        "      # Generate random rotations in all 3 directions for every qubit\n",
        "        noise_qc.rx(random.gauss(0,ph_noise), q)\n",
        "        noise_qc.ry(random.gauss(0,ph_noise), q)\n",
        "        noise_qc.rz(random.gauss(0,ph_noise), q)\n",
        "    return noise_qc\n",
        "\n",
        "\n",
        "def run_qc(qc, backend, shots):\n",
        "    \"\"\"\n",
        "    Run quantum circuit on backend\n",
        "    \"\"\"\n",
        "    #circ_backend = provider.get_backend(backend)\n",
        "    circ_backend = Aer.get_backend('aer_simulator')\n",
        "    job = circ_backend.run(transpile(qc, circ_backend), shots=shots)\n",
        "    print(f\"Job id on backend {circ_backend}\")\n",
        "\n",
        "    return job.result()\n",
        "\n",
        "\n",
        "def counts_to_prob(counts, qubits=5):\n",
        "    \"\"\"\n",
        "    Converts dict of counts to dict of probabilites\n",
        "    \"\"\"\n",
        "    print(counts)\n",
        "\n",
        "    # value to recalculate counts to wavefunction amplitudes\n",
        "    norm = sum(counts.values())\n",
        "\n",
        "    # dict for probabilities\n",
        "    probs = {}\n",
        "\n",
        "    # loop over all dict values, missing ones are = 0\n",
        "    for i in range(2 ** qubits):\n",
        "      key = format(i,'05b')\n",
        "      if key in counts:\n",
        "        count = counts[key]\n",
        "      else:\n",
        "        count = 0\n",
        "      probs[key] = np.sqrt(count / norm)\n",
        "      \n",
        "\n",
        "    return probs\n",
        "\n",
        "\n",
        "def overlap(counts_s, counts_q, qubits=5):\n",
        "    \"\"\"\n",
        "    Calculates the overlap between two distributions as (sum(c1i*c2i))^2\n",
        "    \"\"\"\n",
        "\n",
        "    # convert counts to probabilities\n",
        "    probs1 = counts_to_prob(counts_s)\n",
        "    probs2 = counts_to_prob(counts_q)\n",
        "      \n",
        "    overlap = 0\n",
        "    # loop over all dict values, no ones should be missing\n",
        "    for i in range(2 ** qubits):\n",
        "        key = format(i,'05b')\n",
        "        c1 = probs1[key]\n",
        "        c2 = probs2[key]\n",
        "        overlap += c1 * c2\n",
        "\n",
        "    return overlap\n",
        "  \n",
        "def compose_circuits(n, circuits, add_noise=False):\n",
        "    \"\"\"\n",
        "    Create composite circuit from n first circuits from the list\n",
        "    \"\"\"\n",
        "    circ = QuantumCircuit(5, 5)\n",
        "    for i in range(n):\n",
        "        circ = circ.compose(circuits[i])\n",
        "        if add_noise:\n",
        "            circ = circ.compose(generate_noise_qc(qubits=5))\n",
        "\n",
        "    circ.measure_all()\n",
        "    circ.draw()\n",
        "    return circ\n"
      ],
      "metadata": {
        "id": "pANDimzYkSsL"
      },
      "execution_count": 97,
      "outputs": []
    },
    {
      "cell_type": "code",
      "source": [
        "def evaluate(circuits, real_device=True):\n",
        "    \"\"\"\n",
        "    Return set of overlaps by running on simulator and real device\n",
        "    Also we have option run noise circuit on simulator instead of run on real device\n",
        "    \"\"\"\n",
        "\n",
        "    result_overlap = []\n",
        "    shots = 100\n",
        "\n",
        "    for i in range(1, len(circuits)):\n",
        "        ideal_qc = QuantumCircuit(5, 5)\n",
        "        ideal_qc = compose_circuits(i, circuits, add_noise=False)\n",
        "\n",
        "        # simulate noise circ\n",
        "        qc_noised = QuantumCircuit(5, 5)\n",
        "        if real_device == False:\n",
        "            qc_noised = compose_circuits(i, circuits, add_noise=True)\n",
        "        \n",
        "        #run on sim\n",
        "        result_s = run_qc(ideal_qc, backend='ionq.simulator', shots=shots)\n",
        "        counts_s = {format(n, \"05b\"): 0 for n in range(2 ** 5)}\n",
        "        print(counts_s)\n",
        "        counts_s.update(result_s.get_counts(ideal_qc))\n",
        "        print(counts_s)\n",
        "\n",
        "        # run noise circ\n",
        "        if real_device == False:\n",
        "            result_q = run_qc(qc_noised, backend='ionq.simulator', shots=shots)\n",
        "        else:\n",
        "            result_q = run_qc(qc_noised, backend='ionq.qpu', shots=shots)\n",
        "\n",
        "        counts_q = {format(n, \"05b\"): 0 for n in range(2 ** 5)}\n",
        "\n",
        "\n",
        "        if real_device == False:\n",
        "            counts_q.update(result_q.get_counts(qc_noised))\n",
        "        else:\n",
        "            counts_q.update(result_q.get_counts(qc_noised))\n",
        "\n",
        "        result_overlap.append(overlap(counts_s, counts_q))\n",
        "\n",
        "    return result_overlap"
      ],
      "metadata": {
        "id": "bqYzCuApkV0I"
      },
      "execution_count": 98,
      "outputs": []
    },
    {
      "cell_type": "code",
      "source": [
        "circuits = []\n",
        "num_cards = 10 # len(circuits)\n",
        "\n",
        "for i in range(num_cards):\n",
        "    num = random.randint(1,9)\n",
        "    circuits.append(random_circuit(n, num, max_operands=2, seed=42))\n",
        "    # circuits.append(generate_circuit(num, n))\n",
        "\n",
        "results = evaluate(circuits, real_device=False)\n",
        "results"
      ],
      "metadata": {
        "colab": {
          "base_uri": "https://localhost:8080/"
        },
        "id": "oNjqdaj7kYRH",
        "outputId": "5a71604e-6a04-40aa-be79-0850cdac2cbe"
      },
      "execution_count": 100,
      "outputs": [
        {
          "output_type": "stream",
          "name": "stdout",
          "text": [
            "Job id on backend aer_simulator\n",
            "{'00000': 0, '00001': 0, '00010': 0, '00011': 0, '00100': 0, '00101': 0, '00110': 0, '00111': 0, '01000': 0, '01001': 0, '01010': 0, '01011': 0, '01100': 0, '01101': 0, '01110': 0, '01111': 0, '10000': 0, '10001': 0, '10010': 0, '10011': 0, '10100': 0, '10101': 0, '10110': 0, '10111': 0, '11000': 0, '11001': 0, '11010': 0, '11011': 0, '11100': 0, '11101': 0, '11110': 0, '11111': 0}\n",
            "{'00000': 0, '00001': 0, '00010': 0, '00011': 0, '00100': 0, '00101': 0, '00110': 0, '00111': 0, '01000': 0, '01001': 0, '01010': 0, '01011': 0, '01100': 0, '01101': 0, '01110': 0, '01111': 0, '10000': 0, '10001': 0, '10010': 0, '10011': 0, '10100': 0, '10101': 0, '10110': 0, '10111': 0, '11000': 0, '11001': 0, '11010': 0, '11011': 0, '11100': 0, '11101': 0, '11110': 0, '11111': 0, '00000 00000': 6, '01010 00000': 2, '01100 00000': 6, '01001 00000': 7, '00011 00000': 4, '01011 00000': 7, '01000 00000': 6, '00010 00000': 7, '00110 00000': 4, '00001 00000': 7, '01110 00000': 1, '01101 00000': 9, '00101 00000': 8, '00111 00000': 14, '00100 00000': 8, '01111 00000': 4}\n",
            "Job id on backend aer_simulator\n",
            "{'00000': 0, '00001': 0, '00010': 0, '00011': 0, '00100': 0, '00101': 0, '00110': 0, '00111': 0, '01000': 0, '01001': 0, '01010': 0, '01011': 0, '01100': 0, '01101': 0, '01110': 0, '01111': 0, '10000': 0, '10001': 0, '10010': 0, '10011': 0, '10100': 0, '10101': 0, '10110': 0, '10111': 0, '11000': 0, '11001': 0, '11010': 0, '11011': 0, '11100': 0, '11101': 0, '11110': 0, '11111': 0, '00000 00000': 6, '01010 00000': 2, '01100 00000': 6, '01001 00000': 7, '00011 00000': 4, '01011 00000': 7, '01000 00000': 6, '00010 00000': 7, '00110 00000': 4, '00001 00000': 7, '01110 00000': 1, '01101 00000': 9, '00101 00000': 8, '00111 00000': 14, '00100 00000': 8, '01111 00000': 4}\n",
            "{'00000': 0, '00001': 0, '00010': 0, '00011': 0, '00100': 0, '00101': 0, '00110': 0, '00111': 0, '01000': 0, '01001': 0, '01010': 0, '01011': 0, '01100': 0, '01101': 0, '01110': 0, '01111': 0, '10000': 0, '10001': 0, '10010': 0, '10011': 0, '10100': 0, '10101': 0, '10110': 0, '10111': 0, '11000': 0, '11001': 0, '11010': 0, '11011': 0, '11100': 0, '11101': 0, '11110': 0, '11111': 0, '00011 00000': 1, '01011 00000': 5, '01101 00000': 10, '01110 00000': 5, '00101 00000': 4, '00100 00000': 9, '01010 00000': 4, '01100 00000': 4, '11010 00000': 1, '00010 00000': 3, '00111 00000': 11, '01111 00000': 11, '00110 00000': 4, '01000 00000': 5, '00001 00000': 10, '00000 00000': 5, '01001 00000': 8}\n",
            "Job id on backend aer_simulator\n",
            "{'00000': 0, '00001': 0, '00010': 0, '00011': 0, '00100': 0, '00101': 0, '00110': 0, '00111': 0, '01000': 0, '01001': 0, '01010': 0, '01011': 0, '01100': 0, '01101': 0, '01110': 0, '01111': 0, '10000': 0, '10001': 0, '10010': 0, '10011': 0, '10100': 0, '10101': 0, '10110': 0, '10111': 0, '11000': 0, '11001': 0, '11010': 0, '11011': 0, '11100': 0, '11101': 0, '11110': 0, '11111': 0}\n",
            "{'00000': 0, '00001': 0, '00010': 0, '00011': 0, '00100': 0, '00101': 0, '00110': 0, '00111': 0, '01000': 0, '01001': 0, '01010': 0, '01011': 0, '01100': 0, '01101': 0, '01110': 0, '01111': 0, '10000': 0, '10001': 0, '10010': 0, '10011': 0, '10100': 0, '10101': 0, '10110': 0, '10111': 0, '11000': 0, '11001': 0, '11010': 0, '11011': 0, '11100': 0, '11101': 0, '11110': 0, '11111': 0, '11010 00000': 1, '11110 00000': 4, '00100 00000': 2, '10110 00000': 2, '00101 00000': 3, '10000 00000': 11, '01100 00000': 1, '10001 00000': 5, '01111 00000': 29, '11100 00000': 4, '11000 00000': 8, '11101 00000': 1, '10101 00000': 8, '01110 00000': 5, '11001 00000': 3, '01101 00000': 2, '01011 00000': 2, '01001 00000': 1, '10011 00000': 1, '00110 00000': 3, '01000 00000': 1, '10111 00000': 1, '00001 00000': 1, '11011 00000': 1}\n",
            "Job id on backend aer_simulator\n",
            "{'00000': 0, '00001': 0, '00010': 0, '00011': 0, '00100': 0, '00101': 0, '00110': 0, '00111': 0, '01000': 0, '01001': 0, '01010': 0, '01011': 0, '01100': 0, '01101': 0, '01110': 0, '01111': 0, '10000': 0, '10001': 0, '10010': 0, '10011': 0, '10100': 0, '10101': 0, '10110': 0, '10111': 0, '11000': 0, '11001': 0, '11010': 0, '11011': 0, '11100': 0, '11101': 0, '11110': 0, '11111': 0, '11010 00000': 1, '11110 00000': 4, '00100 00000': 2, '10110 00000': 2, '00101 00000': 3, '10000 00000': 11, '01100 00000': 1, '10001 00000': 5, '01111 00000': 29, '11100 00000': 4, '11000 00000': 8, '11101 00000': 1, '10101 00000': 8, '01110 00000': 5, '11001 00000': 3, '01101 00000': 2, '01011 00000': 2, '01001 00000': 1, '10011 00000': 1, '00110 00000': 3, '01000 00000': 1, '10111 00000': 1, '00001 00000': 1, '11011 00000': 1}\n",
            "{'00000': 0, '00001': 0, '00010': 0, '00011': 0, '00100': 0, '00101': 0, '00110': 0, '00111': 0, '01000': 0, '01001': 0, '01010': 0, '01011': 0, '01100': 0, '01101': 0, '01110': 0, '01111': 0, '10000': 0, '10001': 0, '10010': 0, '10011': 0, '10100': 0, '10101': 0, '10110': 0, '10111': 0, '11000': 0, '11001': 0, '11010': 0, '11011': 0, '11100': 0, '11101': 0, '11110': 0, '11111': 0, '01001 00000': 1, '11110 00000': 1, '00111 00000': 2, '01111 00000': 29, '11001 00000': 5, '01110 00000': 3, '00101 00000': 7, '11111 00000': 4, '11100 00000': 1, '10101 00000': 9, '10001 00000': 3, '10110 00000': 2, '00011 00000': 1, '01011 00000': 4, '10000 00000': 8, '01100 00000': 3, '11101 00000': 4, '11000 00000': 11, '00100 00000': 2}\n",
            "Job id on backend aer_simulator\n",
            "{'00000': 0, '00001': 0, '00010': 0, '00011': 0, '00100': 0, '00101': 0, '00110': 0, '00111': 0, '01000': 0, '01001': 0, '01010': 0, '01011': 0, '01100': 0, '01101': 0, '01110': 0, '01111': 0, '10000': 0, '10001': 0, '10010': 0, '10011': 0, '10100': 0, '10101': 0, '10110': 0, '10111': 0, '11000': 0, '11001': 0, '11010': 0, '11011': 0, '11100': 0, '11101': 0, '11110': 0, '11111': 0}\n",
            "{'00000': 0, '00001': 0, '00010': 0, '00011': 0, '00100': 0, '00101': 0, '00110': 0, '00111': 0, '01000': 0, '01001': 0, '01010': 0, '01011': 0, '01100': 0, '01101': 0, '01110': 0, '01111': 0, '10000': 0, '10001': 0, '10010': 0, '10011': 0, '10100': 0, '10101': 0, '10110': 0, '10111': 0, '11000': 0, '11001': 0, '11010': 0, '11011': 0, '11100': 0, '11101': 0, '11110': 0, '11111': 0, '01000 00000': 4, '00001 00000': 1, '00011 00000': 1, '01110 00000': 5, '01010 00000': 23, '11100 00000': 1, '11001 00000': 6, '10001 00000': 10, '10110 00000': 1, '10100 00000': 6, '00111 00000': 1, '01111 00000': 3, '01011 00000': 8, '10010 00000': 1, '00010 00000': 1, '11101 00000': 4, '11000 00000': 4, '10101 00000': 2, '00100 00000': 3, '11011 00000': 4, '00000 00000': 6, '10000 00000': 5}\n",
            "Job id on backend aer_simulator\n",
            "{'00000': 0, '00001': 0, '00010': 0, '00011': 0, '00100': 0, '00101': 0, '00110': 0, '00111': 0, '01000': 0, '01001': 0, '01010': 0, '01011': 0, '01100': 0, '01101': 0, '01110': 0, '01111': 0, '10000': 0, '10001': 0, '10010': 0, '10011': 0, '10100': 0, '10101': 0, '10110': 0, '10111': 0, '11000': 0, '11001': 0, '11010': 0, '11011': 0, '11100': 0, '11101': 0, '11110': 0, '11111': 0, '01000 00000': 4, '00001 00000': 1, '00011 00000': 1, '01110 00000': 5, '01010 00000': 23, '11100 00000': 1, '11001 00000': 6, '10001 00000': 10, '10110 00000': 1, '10100 00000': 6, '00111 00000': 1, '01111 00000': 3, '01011 00000': 8, '10010 00000': 1, '00010 00000': 1, '11101 00000': 4, '11000 00000': 4, '10101 00000': 2, '00100 00000': 3, '11011 00000': 4, '00000 00000': 6, '10000 00000': 5}\n",
            "{'00000': 0, '00001': 0, '00010': 0, '00011': 0, '00100': 0, '00101': 0, '00110': 0, '00111': 0, '01000': 0, '01001': 0, '01010': 0, '01011': 0, '01100': 0, '01101': 0, '01110': 0, '01111': 0, '10000': 0, '10001': 0, '10010': 0, '10011': 0, '10100': 0, '10101': 0, '10110': 0, '10111': 0, '11000': 0, '11001': 0, '11010': 0, '11011': 0, '11100': 0, '11101': 0, '11110': 0, '11111': 0, '11011 00000': 1, '00010 00000': 1, '00100 00000': 2, '10110 00000': 4, '11010 00000': 2, '10000 00000': 3, '01100 00000': 1, '11100 00000': 5, '01010 00000': 17, '10101 00000': 5, '11001 00000': 4, '01110 00000': 8, '10001 00000': 5, '10100 00000': 4, '00011 00000': 5, '00111 00000': 3, '01111 00000': 7, '00000 00000': 4, '10010 00000': 1, '01011 00000': 7, '00110 00000': 1, '01000 00000': 4, '11101 00000': 4, '11000 00000': 2}\n",
            "Job id on backend aer_simulator\n",
            "{'00000': 0, '00001': 0, '00010': 0, '00011': 0, '00100': 0, '00101': 0, '00110': 0, '00111': 0, '01000': 0, '01001': 0, '01010': 0, '01011': 0, '01100': 0, '01101': 0, '01110': 0, '01111': 0, '10000': 0, '10001': 0, '10010': 0, '10011': 0, '10100': 0, '10101': 0, '10110': 0, '10111': 0, '11000': 0, '11001': 0, '11010': 0, '11011': 0, '11100': 0, '11101': 0, '11110': 0, '11111': 0}\n",
            "{'00000': 0, '00001': 0, '00010': 0, '00011': 0, '00100': 0, '00101': 0, '00110': 0, '00111': 0, '01000': 0, '01001': 0, '01010': 0, '01011': 0, '01100': 0, '01101': 0, '01110': 0, '01111': 0, '10000': 0, '10001': 0, '10010': 0, '10011': 0, '10100': 0, '10101': 0, '10110': 0, '10111': 0, '11000': 0, '11001': 0, '11010': 0, '11011': 0, '11100': 0, '11101': 0, '11110': 0, '11111': 0, '10110 00000': 2, '00000 00000': 3, '11111 00000': 2, '01110 00000': 6, '01001 00000': 1, '11100 00000': 3, '00101 00000': 3, '00111 00000': 1, '01111 00000': 10, '11110 00000': 4, '01000 00000': 2, '01101 00000': 1, '10010 00000': 3, '01011 00000': 4, '10101 00000': 3, '00001 00000': 5, '10111 00000': 2, '10001 00000': 7, '00011 00000': 2, '11001 00000': 8, '11101 00000': 1, '11000 00000': 3, '00100 00000': 3, '01010 00000': 1, '11011 00000': 13, '01100 00000': 1, '10000 00000': 6}\n",
            "Job id on backend aer_simulator\n",
            "{'00000': 0, '00001': 0, '00010': 0, '00011': 0, '00100': 0, '00101': 0, '00110': 0, '00111': 0, '01000': 0, '01001': 0, '01010': 0, '01011': 0, '01100': 0, '01101': 0, '01110': 0, '01111': 0, '10000': 0, '10001': 0, '10010': 0, '10011': 0, '10100': 0, '10101': 0, '10110': 0, '10111': 0, '11000': 0, '11001': 0, '11010': 0, '11011': 0, '11100': 0, '11101': 0, '11110': 0, '11111': 0, '10110 00000': 2, '00000 00000': 3, '11111 00000': 2, '01110 00000': 6, '01001 00000': 1, '11100 00000': 3, '00101 00000': 3, '00111 00000': 1, '01111 00000': 10, '11110 00000': 4, '01000 00000': 2, '01101 00000': 1, '10010 00000': 3, '01011 00000': 4, '10101 00000': 3, '00001 00000': 5, '10111 00000': 2, '10001 00000': 7, '00011 00000': 2, '11001 00000': 8, '11101 00000': 1, '11000 00000': 3, '00100 00000': 3, '01010 00000': 1, '11011 00000': 13, '01100 00000': 1, '10000 00000': 6}\n",
            "{'00000': 0, '00001': 0, '00010': 0, '00011': 0, '00100': 0, '00101': 0, '00110': 0, '00111': 0, '01000': 0, '01001': 0, '01010': 0, '01011': 0, '01100': 0, '01101': 0, '01110': 0, '01111': 0, '10000': 0, '10001': 0, '10010': 0, '10011': 0, '10100': 0, '10101': 0, '10110': 0, '10111': 0, '11000': 0, '11001': 0, '11010': 0, '11011': 0, '11100': 0, '11101': 0, '11110': 0, '11111': 0, '11110 00000': 1, '00011 00000': 1, '00110 00000': 1, '00010 00000': 1, '10011 00000': 4, '00000 00000': 1, '11001 00000': 11, '01110 00000': 2, '01111 00000': 11, '01101 00000': 2, '10010 00000': 5, '01011 00000': 7, '11111 00000': 4, '11011 00000': 17, '00100 00000': 4, '11010 00000': 3, '10000 00000': 5, '01100 00000': 2, '11000 00000': 1, '11101 00000': 3, '11100 00000': 6, '01010 00000': 3, '10111 00000': 1, '00001 00000': 4}\n",
            "Job id on backend aer_simulator\n",
            "{'00000': 0, '00001': 0, '00010': 0, '00011': 0, '00100': 0, '00101': 0, '00110': 0, '00111': 0, '01000': 0, '01001': 0, '01010': 0, '01011': 0, '01100': 0, '01101': 0, '01110': 0, '01111': 0, '10000': 0, '10001': 0, '10010': 0, '10011': 0, '10100': 0, '10101': 0, '10110': 0, '10111': 0, '11000': 0, '11001': 0, '11010': 0, '11011': 0, '11100': 0, '11101': 0, '11110': 0, '11111': 0}\n",
            "{'00000': 0, '00001': 0, '00010': 0, '00011': 0, '00100': 0, '00101': 0, '00110': 0, '00111': 0, '01000': 0, '01001': 0, '01010': 0, '01011': 0, '01100': 0, '01101': 0, '01110': 0, '01111': 0, '10000': 0, '10001': 0, '10010': 0, '10011': 0, '10100': 0, '10101': 0, '10110': 0, '10111': 0, '11000': 0, '11001': 0, '11010': 0, '11011': 0, '11100': 0, '11101': 0, '11110': 0, '11111': 0, '00110 00000': 1, '00000 00000': 1, '00011 00000': 1, '11001 00000': 2, '10000 00000': 5, '01100 00000': 2, '11010 00000': 2, '11111 00000': 3, '00101 00000': 1, '11101 00000': 6, '10101 00000': 4, '11011 00000': 13, '11100 00000': 11, '01110 00000': 7, '10001 00000': 12, '01011 00000': 10, '01111 00000': 6, '11110 00000': 6, '00100 00000': 2, '10111 00000': 1, '00001 00000': 4}\n",
            "Job id on backend aer_simulator\n",
            "{'00000': 0, '00001': 0, '00010': 0, '00011': 0, '00100': 0, '00101': 0, '00110': 0, '00111': 0, '01000': 0, '01001': 0, '01010': 0, '01011': 0, '01100': 0, '01101': 0, '01110': 0, '01111': 0, '10000': 0, '10001': 0, '10010': 0, '10011': 0, '10100': 0, '10101': 0, '10110': 0, '10111': 0, '11000': 0, '11001': 0, '11010': 0, '11011': 0, '11100': 0, '11101': 0, '11110': 0, '11111': 0, '00110 00000': 1, '00000 00000': 1, '00011 00000': 1, '11001 00000': 2, '10000 00000': 5, '01100 00000': 2, '11010 00000': 2, '11111 00000': 3, '00101 00000': 1, '11101 00000': 6, '10101 00000': 4, '11011 00000': 13, '11100 00000': 11, '01110 00000': 7, '10001 00000': 12, '01011 00000': 10, '01111 00000': 6, '11110 00000': 6, '00100 00000': 2, '10111 00000': 1, '00001 00000': 4}\n",
            "{'00000': 0, '00001': 0, '00010': 0, '00011': 0, '00100': 0, '00101': 0, '00110': 0, '00111': 0, '01000': 0, '01001': 0, '01010': 0, '01011': 0, '01100': 0, '01101': 0, '01110': 0, '01111': 0, '10000': 0, '10001': 0, '10010': 0, '10011': 0, '10100': 0, '10101': 0, '10110': 0, '10111': 0, '11000': 0, '11001': 0, '11010': 0, '11011': 0, '11100': 0, '11101': 0, '11110': 0, '11111': 0, '10011 00000': 2, '10101 00000': 3, '11110 00000': 4, '10001 00000': 6, '11100 00000': 9, '01100 00000': 3, '10000 00000': 2, '00101 00000': 4, '10100 00000': 2, '11111 00000': 3, '11101 00000': 9, '00000 00000': 3, '01101 00000': 2, '01011 00000': 13, '10111 00000': 1, '00001 00000': 6, '00100 00000': 1, '11011 00000': 11, '01001 00000': 1, '01110 00000': 7, '00011 00000': 4, '10110 00000': 1, '01111 00000': 2, '01000 00000': 1}\n",
            "Job id on backend aer_simulator\n",
            "{'00000': 0, '00001': 0, '00010': 0, '00011': 0, '00100': 0, '00101': 0, '00110': 0, '00111': 0, '01000': 0, '01001': 0, '01010': 0, '01011': 0, '01100': 0, '01101': 0, '01110': 0, '01111': 0, '10000': 0, '10001': 0, '10010': 0, '10011': 0, '10100': 0, '10101': 0, '10110': 0, '10111': 0, '11000': 0, '11001': 0, '11010': 0, '11011': 0, '11100': 0, '11101': 0, '11110': 0, '11111': 0}\n",
            "{'00000': 0, '00001': 0, '00010': 0, '00011': 0, '00100': 0, '00101': 0, '00110': 0, '00111': 0, '01000': 0, '01001': 0, '01010': 0, '01011': 0, '01100': 0, '01101': 0, '01110': 0, '01111': 0, '10000': 0, '10001': 0, '10010': 0, '10011': 0, '10100': 0, '10101': 0, '10110': 0, '10111': 0, '11000': 0, '11001': 0, '11010': 0, '11011': 0, '11100': 0, '11101': 0, '11110': 0, '11111': 0, '01000 00000': 1, '00101 00000': 1, '11011 00000': 4, '10011 00000': 2, '00000 00000': 3, '11010 00000': 1, '11100 00000': 4, '11001 00000': 3, '01010 00000': 10, '00100 00000': 6, '11101 00000': 2, '11000 00000': 2, '00111 00000': 2, '01111 00000': 5, '11110 00000': 13, '00011 00000': 3, '11111 00000': 2, '10100 00000': 6, '10001 00000': 3, '10010 00000': 1, '01101 00000': 4, '01011 00000': 5, '01100 00000': 7, '10000 00000': 7, '10111 00000': 1, '00001 00000': 1, '00010 00000': 1}\n",
            "Job id on backend aer_simulator\n",
            "{'00000': 0, '00001': 0, '00010': 0, '00011': 0, '00100': 0, '00101': 0, '00110': 0, '00111': 0, '01000': 0, '01001': 0, '01010': 0, '01011': 0, '01100': 0, '01101': 0, '01110': 0, '01111': 0, '10000': 0, '10001': 0, '10010': 0, '10011': 0, '10100': 0, '10101': 0, '10110': 0, '10111': 0, '11000': 0, '11001': 0, '11010': 0, '11011': 0, '11100': 0, '11101': 0, '11110': 0, '11111': 0, '01000 00000': 1, '00101 00000': 1, '11011 00000': 4, '10011 00000': 2, '00000 00000': 3, '11010 00000': 1, '11100 00000': 4, '11001 00000': 3, '01010 00000': 10, '00100 00000': 6, '11101 00000': 2, '11000 00000': 2, '00111 00000': 2, '01111 00000': 5, '11110 00000': 13, '00011 00000': 3, '11111 00000': 2, '10100 00000': 6, '10001 00000': 3, '10010 00000': 1, '01101 00000': 4, '01011 00000': 5, '01100 00000': 7, '10000 00000': 7, '10111 00000': 1, '00001 00000': 1, '00010 00000': 1}\n",
            "{'00000': 0, '00001': 0, '00010': 0, '00011': 0, '00100': 0, '00101': 0, '00110': 0, '00111': 0, '01000': 0, '01001': 0, '01010': 0, '01011': 0, '01100': 0, '01101': 0, '01110': 0, '01111': 0, '10000': 0, '10001': 0, '10010': 0, '10011': 0, '10100': 0, '10101': 0, '10110': 0, '10111': 0, '11000': 0, '11001': 0, '11010': 0, '11011': 0, '11100': 0, '11101': 0, '11110': 0, '11111': 0, '01001 00000': 1, '00001 00000': 1, '11100 00000': 3, '00100 00000': 2, '00101 00000': 1, '00010 00000': 1, '00011 00000': 3, '01010 00000': 9, '01100 00000': 6, '10000 00000': 6, '01111 00000': 6, '11110 00000': 12, '11010 00000': 4, '10110 00000': 1, '11111 00000': 2, '10100 00000': 4, '10001 00000': 1, '10011 00000': 6, '00000 00000': 10, '11101 00000': 4, '01110 00000': 3, '00110 00000': 2, '01000 00000': 8, '11011 00000': 2, '01011 00000': 2}\n",
            "Job id on backend aer_simulator\n",
            "{'00000': 0, '00001': 0, '00010': 0, '00011': 0, '00100': 0, '00101': 0, '00110': 0, '00111': 0, '01000': 0, '01001': 0, '01010': 0, '01011': 0, '01100': 0, '01101': 0, '01110': 0, '01111': 0, '10000': 0, '10001': 0, '10010': 0, '10011': 0, '10100': 0, '10101': 0, '10110': 0, '10111': 0, '11000': 0, '11001': 0, '11010': 0, '11011': 0, '11100': 0, '11101': 0, '11110': 0, '11111': 0}\n",
            "{'00000': 0, '00001': 0, '00010': 0, '00011': 0, '00100': 0, '00101': 0, '00110': 0, '00111': 0, '01000': 0, '01001': 0, '01010': 0, '01011': 0, '01100': 0, '01101': 0, '01110': 0, '01111': 0, '10000': 0, '10001': 0, '10010': 0, '10011': 0, '10100': 0, '10101': 0, '10110': 0, '10111': 0, '11000': 0, '11001': 0, '11010': 0, '11011': 0, '11100': 0, '11101': 0, '11110': 0, '11111': 0, '00101 00000': 1, '01001 00000': 2, '10110 00000': 3, '00010 00000': 1, '11101 00000': 8, '10011 00000': 2, '01111 00000': 19, '11011 00000': 6, '10101 00000': 2, '10111 00000': 3, '01000 00000': 4, '00110 00000': 4, '00011 00000': 5, '10001 00000': 6, '01010 00000': 2, '10100 00000': 2, '11111 00000': 2, '10000 00000': 1, '11001 00000': 5, '00000 00000': 5, '10010 00000': 1, '01101 00000': 3, '01011 00000': 7, '11010 00000': 6}\n",
            "Job id on backend aer_simulator\n",
            "{'00000': 0, '00001': 0, '00010': 0, '00011': 0, '00100': 0, '00101': 0, '00110': 0, '00111': 0, '01000': 0, '01001': 0, '01010': 0, '01011': 0, '01100': 0, '01101': 0, '01110': 0, '01111': 0, '10000': 0, '10001': 0, '10010': 0, '10011': 0, '10100': 0, '10101': 0, '10110': 0, '10111': 0, '11000': 0, '11001': 0, '11010': 0, '11011': 0, '11100': 0, '11101': 0, '11110': 0, '11111': 0, '00101 00000': 1, '01001 00000': 2, '10110 00000': 3, '00010 00000': 1, '11101 00000': 8, '10011 00000': 2, '01111 00000': 19, '11011 00000': 6, '10101 00000': 2, '10111 00000': 3, '01000 00000': 4, '00110 00000': 4, '00011 00000': 5, '10001 00000': 6, '01010 00000': 2, '10100 00000': 2, '11111 00000': 2, '10000 00000': 1, '11001 00000': 5, '00000 00000': 5, '10010 00000': 1, '01101 00000': 3, '01011 00000': 7, '11010 00000': 6}\n",
            "{'00000': 0, '00001': 0, '00010': 0, '00011': 0, '00100': 0, '00101': 0, '00110': 0, '00111': 0, '01000': 0, '01001': 0, '01010': 0, '01011': 0, '01100': 0, '01101': 0, '01110': 0, '01111': 0, '10000': 0, '10001': 0, '10010': 0, '10011': 0, '10100': 0, '10101': 0, '10110': 0, '10111': 0, '11000': 0, '11001': 0, '11010': 0, '11011': 0, '11100': 0, '11101': 0, '11110': 0, '11111': 0, '01100 00000': 1, '10110 00000': 1, '00010 00000': 1, '11011 00000': 2, '01110 00000': 1, '11100 00000': 1, '11101 00000': 11, '10111 00000': 2, '01111 00000': 8, '01101 00000': 4, '01011 00000': 8, '10010 00000': 3, '01010 00000': 7, '10001 00000': 10, '00011 00000': 2, '00100 00000': 2, '11001 00000': 5, '11010 00000': 8, '01001 00000': 4, '01000 00000': 9, '00110 00000': 2, '10011 00000': 6, '10100 00000': 1, '11111 00000': 1}\n",
            "Job id on backend aer_simulator\n",
            "{'00000': 0, '00001': 0, '00010': 0, '00011': 0, '00100': 0, '00101': 0, '00110': 0, '00111': 0, '01000': 0, '01001': 0, '01010': 0, '01011': 0, '01100': 0, '01101': 0, '01110': 0, '01111': 0, '10000': 0, '10001': 0, '10010': 0, '10011': 0, '10100': 0, '10101': 0, '10110': 0, '10111': 0, '11000': 0, '11001': 0, '11010': 0, '11011': 0, '11100': 0, '11101': 0, '11110': 0, '11111': 0}\n",
            "{'00000': 0, '00001': 0, '00010': 0, '00011': 0, '00100': 0, '00101': 0, '00110': 0, '00111': 0, '01000': 0, '01001': 0, '01010': 0, '01011': 0, '01100': 0, '01101': 0, '01110': 0, '01111': 0, '10000': 0, '10001': 0, '10010': 0, '10011': 0, '10100': 0, '10101': 0, '10110': 0, '10111': 0, '11000': 0, '11001': 0, '11010': 0, '11011': 0, '11100': 0, '11101': 0, '11110': 0, '11111': 0, '00011 00000': 1, '11010 00000': 1, '10011 00000': 1, '10100 00000': 1, '11111 00000': 2, '10110 00000': 2, '10101 00000': 1, '11100 00000': 6, '11000 00000': 2, '11101 00000': 5, '00100 00000': 3, '11110 00000': 1, '00110 00000': 6, '00010 00000': 4, '10111 00000': 10, '00001 00000': 5, '00111 00000': 8, '00000 00000': 4, '11011 00000': 2, '10000 00000': 12, '01100 00000': 5, '01101 00000': 1, '10010 00000': 9, '01011 00000': 3, '01010 00000': 2, '10001 00000': 3}\n",
            "Job id on backend aer_simulator\n",
            "{'00000': 0, '00001': 0, '00010': 0, '00011': 0, '00100': 0, '00101': 0, '00110': 0, '00111': 0, '01000': 0, '01001': 0, '01010': 0, '01011': 0, '01100': 0, '01101': 0, '01110': 0, '01111': 0, '10000': 0, '10001': 0, '10010': 0, '10011': 0, '10100': 0, '10101': 0, '10110': 0, '10111': 0, '11000': 0, '11001': 0, '11010': 0, '11011': 0, '11100': 0, '11101': 0, '11110': 0, '11111': 0, '00011 00000': 1, '11010 00000': 1, '10011 00000': 1, '10100 00000': 1, '11111 00000': 2, '10110 00000': 2, '10101 00000': 1, '11100 00000': 6, '11000 00000': 2, '11101 00000': 5, '00100 00000': 3, '11110 00000': 1, '00110 00000': 6, '00010 00000': 4, '10111 00000': 10, '00001 00000': 5, '00111 00000': 8, '00000 00000': 4, '11011 00000': 2, '10000 00000': 12, '01100 00000': 5, '01101 00000': 1, '10010 00000': 9, '01011 00000': 3, '01010 00000': 2, '10001 00000': 3}\n",
            "{'00000': 0, '00001': 0, '00010': 0, '00011': 0, '00100': 0, '00101': 0, '00110': 0, '00111': 0, '01000': 0, '01001': 0, '01010': 0, '01011': 0, '01100': 0, '01101': 0, '01110': 0, '01111': 0, '10000': 0, '10001': 0, '10010': 0, '10011': 0, '10100': 0, '10101': 0, '10110': 0, '10111': 0, '11000': 0, '11001': 0, '11010': 0, '11011': 0, '11100': 0, '11101': 0, '11110': 0, '11111': 0, '00000 00000': 2, '00100 00000': 2, '10101 00000': 2, '00010 00000': 3, '10001 00000': 3, '11111 00000': 1, '10100 00000': 5, '10110 00000': 2, '11110 00000': 3, '11010 00000': 6, '10011 00000': 9, '01000 00000': 3, '00110 00000': 1, '11101 00000': 1, '11000 00000': 2, '01101 00000': 5, '10010 00000': 11, '01011 00000': 4, '11011 00000': 4, '01100 00000': 3, '10000 00000': 3, '01111 00000': 1, '00111 00000': 7, '00001 00000': 6, '10111 00000': 10, '01001 00000': 1}\n",
            "Job id on backend aer_simulator\n",
            "{'00000': 0, '00001': 0, '00010': 0, '00011': 0, '00100': 0, '00101': 0, '00110': 0, '00111': 0, '01000': 0, '01001': 0, '01010': 0, '01011': 0, '01100': 0, '01101': 0, '01110': 0, '01111': 0, '10000': 0, '10001': 0, '10010': 0, '10011': 0, '10100': 0, '10101': 0, '10110': 0, '10111': 0, '11000': 0, '11001': 0, '11010': 0, '11011': 0, '11100': 0, '11101': 0, '11110': 0, '11111': 0}\n",
            "{'00000': 0, '00001': 0, '00010': 0, '00011': 0, '00100': 0, '00101': 0, '00110': 0, '00111': 0, '01000': 0, '01001': 0, '01010': 0, '01011': 0, '01100': 0, '01101': 0, '01110': 0, '01111': 0, '10000': 0, '10001': 0, '10010': 0, '10011': 0, '10100': 0, '10101': 0, '10110': 0, '10111': 0, '11000': 0, '11001': 0, '11010': 0, '11011': 0, '11100': 0, '11101': 0, '11110': 0, '11111': 0, '00100 00000': 1, '10101 00000': 1, '01000 00000': 1, '10000 00000': 1, '11100 00000': 3, '00000 00000': 4, '01010 00000': 1, '11110 00000': 9, '10011 00000': 4, '01101 00000': 2, '10010 00000': 2, '01011 00000': 2, '11101 00000': 4, '11000 00000': 4, '10100 00000': 2, '11111 00000': 4, '01111 00000': 1, '00111 00000': 5, '00101 00000': 2, '10111 00000': 4, '00001 00000': 7, '10001 00000': 21, '10110 00000': 3, '11011 00000': 4, '01110 00000': 5, '00010 00000': 3}\n",
            "Job id on backend aer_simulator\n",
            "{'00000': 0, '00001': 0, '00010': 0, '00011': 0, '00100': 0, '00101': 0, '00110': 0, '00111': 0, '01000': 0, '01001': 0, '01010': 0, '01011': 0, '01100': 0, '01101': 0, '01110': 0, '01111': 0, '10000': 0, '10001': 0, '10010': 0, '10011': 0, '10100': 0, '10101': 0, '10110': 0, '10111': 0, '11000': 0, '11001': 0, '11010': 0, '11011': 0, '11100': 0, '11101': 0, '11110': 0, '11111': 0, '00100 00000': 1, '10101 00000': 1, '01000 00000': 1, '10000 00000': 1, '11100 00000': 3, '00000 00000': 4, '01010 00000': 1, '11110 00000': 9, '10011 00000': 4, '01101 00000': 2, '10010 00000': 2, '01011 00000': 2, '11101 00000': 4, '11000 00000': 4, '10100 00000': 2, '11111 00000': 4, '01111 00000': 1, '00111 00000': 5, '00101 00000': 2, '10111 00000': 4, '00001 00000': 7, '10001 00000': 21, '10110 00000': 3, '11011 00000': 4, '01110 00000': 5, '00010 00000': 3}\n",
            "{'00000': 0, '00001': 0, '00010': 0, '00011': 0, '00100': 0, '00101': 0, '00110': 0, '00111': 0, '01000': 0, '01001': 0, '01010': 0, '01011': 0, '01100': 0, '01101': 0, '01110': 0, '01111': 0, '10000': 0, '10001': 0, '10010': 0, '10011': 0, '10100': 0, '10101': 0, '10110': 0, '10111': 0, '11000': 0, '11001': 0, '11010': 0, '11011': 0, '11100': 0, '11101': 0, '11110': 0, '11111': 0, '00000 00000': 1, '01000 00000': 1, '10000 00000': 1, '00011 00000': 1, '11000 00000': 1, '01001 00000': 3, '10110 00000': 2, '01010 00000': 3, '11100 00000': 2, '10001 00000': 2, '10100 00000': 1, '11011 00000': 7, '00001 00000': 13, '10111 00000': 8, '01101 00000': 3, '01011 00000': 8, '10010 00000': 7, '11110 00000': 7, '00010 00000': 11, '00111 00000': 6, '00101 00000': 2, '10011 00000': 4, '11001 00000': 2, '11010 00000': 4}\n"
          ]
        },
        {
          "output_type": "execute_result",
          "data": {
            "text/plain": [
              "[0.0, 0.0, 0.0, 0.0, 0.0, 0.0, 0.0, 0.0, 0.0]"
            ]
          },
          "metadata": {},
          "execution_count": 100
        }
      ]
    },
    {
      "cell_type": "markdown",
      "source": [
        "#GAME"
      ],
      "metadata": {
        "id": "MsBehx3OdDSn"
      }
    },
    {
      "cell_type": "code",
      "source": [
        "my_game = QUnoJenga()\n",
        "my_game.play_game()"
      ],
      "metadata": {
        "id": "KMV5hxCspo8d",
        "colab": {
          "base_uri": "https://localhost:8080/"
        },
        "outputId": "20cfd533-6680-48a2-ccd1-7ffa8c4506ab"
      },
      "execution_count": 17,
      "outputs": [
        {
          "output_type": "stream",
          "name": "stdout",
          "text": [
            "\n",
            "Artem, your turn!\n",
            "You have 3 cards\n",
            "The center card is 1, Yellow. \n",
            "Select your option\n",
            "0 -- look card\n",
            "1 -- look all cards\n",
            "2 -- play card\n",
            "3 -- skip\n",
            "4 -- REAL HARDWARE\n",
            "4\n",
            "Comparing classical and quantum hardware\n",
            "Turn done\n",
            "\n",
            "Artem is winner\n"
          ]
        }
      ]
    }
  ]
}