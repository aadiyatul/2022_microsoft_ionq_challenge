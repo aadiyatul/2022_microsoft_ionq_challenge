{
 "cells": [
  {
   "cell_type": "markdown",
   "metadata": {},
   "source": [
    "This code is intended to make the game interactive in Jupyter notebooks. It relies on the `ipywidgets` package. This code is not fully synced with the working version of the quantum game ind is left for demonstration purposes.\n",
    "\n",
    "The user can select the card, look at the corresponding quantum circuit, and finish the game.\n",
    "\n"
   ]
  },
  {
   "cell_type": "code",
   "execution_count": 4,
   "metadata": {},
   "outputs": [
    {
     "data": {
      "application/vnd.jupyter.widget-view+json": {
       "model_id": "49de451510bb421aa456acf6fdc62b08",
       "version_major": 2,
       "version_minor": 0
      },
      "text/plain": [
       "GridspecLayout(children=(Image(value=b'\\x89PNG\\r\\n\\x1a\\n\\x00\\x00\\x00\\rIHDR\\x00\\x00\\x00\\xbd\\x00\\x00\\x01\\x1b\\x08…"
      ]
     },
     "metadata": {},
     "output_type": "display_data"
    }
   ],
   "source": [
    "from ipywidgets import Button, Layout, jslink, IntText, IntSlider, GridspecLayout, Image, TwoByTwoLayout, Output\n",
    "import os\n",
    "\n",
    "no_cards = 10\n",
    "\n",
    "\n",
    "def create_button(description, button_style):\n",
    "    \"\"\"\n",
    "    Creates a button widget. Color depends on the style, 'info' is blue, 'warning' is yellow\n",
    "    \"\"\"\n",
    "    return Button(description=description, button_style=button_style, layout=Layout(height='20', width='auto'))\n",
    "\n",
    "def create_img(value,color):\n",
    "    \"\"\"\n",
    "    Creates an image widget.\n",
    "    Loads an existing image of a card with given value (digit 1-9) \n",
    "    and color (letter 'r','y','g','b')\n",
    "    \"\"\"\n",
    "    filename = 'uno{}{}.png'.format(value,color)\n",
    "    path = os.path.join('cards',filename)\n",
    "    try:\n",
    "        file = open(path, \"rb\")\n",
    "    except:\n",
    "        file = open(\"cards/uno0.png\", \"rb\")\n",
    "    image = file.read()\n",
    "    return Image(value=image,format='png',width=100,height=200)\n",
    "    \n",
    "\n",
    "# Grid layout for images etc\n",
    "grid = GridspecLayout(8, no_cards)\n",
    "\n",
    "# Images take first 5 lines\n",
    "for j in range(no_cards):\n",
    "    grid[0:5, j] = create_img(1,'r')\n",
    "\n",
    "# Buttons 'play this card' are next few lines\n",
    "btns = []\n",
    "for j in range(no_cards):\n",
    "    # btns.append(create_expanded_button('Button {}'.format(j), 'warning'))\n",
    "    btns.append(create_button('Play!',button_style='info'))\n",
    "    grid[6, j] = btns[j]\n",
    "    \n",
    "# button 'evaluate' is the last one\n",
    "grid[7, :] = create_button('Evaluate!',button_style='warning')\n",
    "\n",
    "\n",
    "output = Output()\n",
    "\n",
    "# Callbacks. Each should be precede by  @output.capture()\n",
    "@output.capture()\n",
    "def on_button_clicked(b):\n",
    "    for j in range(no_cards):\n",
    "        grid[0:5, j] = create_img(2,'r')\n",
    "    print(\"Button clicked.\")\n",
    "\n",
    "    \n",
    "# register callbacks\n",
    "btns[0].on_click(on_button_clicked)\n",
    "    \n",
    "\n",
    "# display\n",
    "display(grid)\n"
   ]
  },
  {
   "cell_type": "code",
   "execution_count": null,
   "metadata": {},
   "outputs": [],
   "source": []
  }
 ],
 "metadata": {
  "kernelspec": {
   "display_name": "Python 3 [qBraid-SDK]",
   "language": "python",
   "name": "python3_qbraid_sdk_9j9sjy"
  },
  "language_info": {
   "codemirror_mode": {
    "name": "ipython",
    "version": 3
   },
   "file_extension": ".py",
   "mimetype": "text/x-python",
   "name": "python",
   "nbconvert_exporter": "python",
   "pygments_lexer": "ipython3",
   "version": "3.9.7"
  },
  "toc-autonumbering": true,
  "toc-showcode": false,
  "toc-showmarkdowntxt": false,
  "widgets": {
   "application/vnd.jupyter.widget-state+json": {
    "state": {},
    "version_major": 2,
    "version_minor": 0
   }
  }
 },
 "nbformat": 4,
 "nbformat_minor": 4
}
